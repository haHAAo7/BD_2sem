{
 "cells": [
  {
   "cell_type": "markdown",
   "metadata": {
    "id": "Tw13a6P8Nkgs"
   },
   "source": [
    "#Работа с СУБД SQLite"
   ]
  },
  {
   "cell_type": "code",
   "execution_count": 1,
   "metadata": {
    "colab": {
     "base_uri": "https://localhost:8080/"
    },
    "id": "Y2mJj3zpy9lx",
    "outputId": "d34198b8-a01c-438c-adcc-885abbde214f"
   },
   "outputs": [],
   "source": [
    "import sqlite3 as sl\n",
    "\n",
    "db=sl.connect('GAI.db')"
   ]
  },
  {
   "cell_type": "code",
   "execution_count": 43,
   "metadata": {
    "colab": {
     "base_uri": "https://localhost:8080/",
     "height": 235
    },
    "id": "uJnzqzeX3Zg3",
    "outputId": "c239676b-8b5e-47bf-b611-43248f7826a4"
   },
   "outputs": [
    {
     "name": "stdout",
     "output_type": "stream",
     "text": [
      "Зaпpoc успешно выполнен\n"
     ]
    }
   ],
   "source": [
    "crs=db.cursor()\n",
    "crs.execute(\"\"\"CREATE TABLE auto (id integer PRIMARY KEY, mark text, plate text, fio text, \n",
    "            year_of_issue integer, capacity integer)\"\"\")\n",
    "sql_insert=\"\"\"INSERT INTO auto VALUES (1, 'BMW', 'X809АВ', 'Иванов H.P.', 2010, 1400),\n",
    "                                      (2, 'Audi', 'М432АР', 'Антонов И.В.', 2005, 2100),\n",
    "                                      (3, 'Ford', 'Т889НН', 'Петров О.Д.', 2000, 1750),\n",
    "                                      (4, 'Honda', 'В139ОВ', 'Денисов И.А.',2004, 1600),\n",
    "                                      (5, 'KIA', 'Е961ЕО', 'Иванов М.А.',2015, 1520)\n",
    "            \"\"\"\n",
    "\n",
    "try:\n",
    "    crs.execute(sql_insert)\n",
    "except sl.DatabaseError as err:\n",
    "    print('Error: ', err)\n",
    "else:\n",
    "    db.commit()\n",
    "    print('Зaпpoc успешно выполнен')"
   ]
  },
  {
   "cell_type": "code",
   "execution_count": 44,
   "metadata": {},
   "outputs": [
    {
     "name": "stdout",
     "output_type": "stream",
     "text": [
      "Зaпpoc успешно выполнен\n"
     ]
    }
   ],
   "source": [
    "crs.execute(\"\"\"CREATE TABLE taxes (id integer PRIMARY KEY, tax_fio text, month text, \n",
    "            amount integer, FOREIGN KEY(tax_fio) REFERENCES auto(fio) )\"\"\")\n",
    "\n",
    "sql_insert=\"\"\"INSERT INTO taxes VALUES (1, 'Иванов H.P.', 'Сентябрь', 0),\n",
    "                                       (2, 'Антонов И.В.', 'Февраль', 0),\n",
    "                                       (3, 'Петров О.Д.', 'Август', 0),\n",
    "                                       (4, 'Денисов И.А.','Июль', 0),\n",
    "                                       (5, 'Иванов М.А.','Декабрь', 0)\"\"\"\n",
    "\n",
    "try:\n",
    "    crs.execute(sql_insert)\n",
    "except sl.DatabaseError as err:\n",
    "    print('Error: ', err)\n",
    "else:\n",
    "    db.commit()\n",
    "    print('Зaпpoc успешно выполнен')"
   ]
  },
  {
   "cell_type": "code",
   "execution_count": 45,
   "metadata": {},
   "outputs": [],
   "source": [
    "crs.executescript(\"\"\"Update taxes set amount = 3 \n",
    "            from auto where taxes.tax_fio = \n",
    "            auto.fio and capacity <= 1500;\n",
    "            Update taxes set amount = 5 \n",
    "            from auto where taxes.tax_fio = \n",
    "            auto.fio and capacity > 1500\n",
    "            and capacity < 1900;\n",
    "            Update taxes set amount = 7 \n",
    "            from auto where taxes.tax_fio = \n",
    "            auto.fio and capacity >= 1900;\"\"\")\n",
    "\n",
    "crs.close()"
   ]
  },
  {
   "cell_type": "code",
   "execution_count": 46,
   "metadata": {},
   "outputs": [
    {
     "name": "stdout",
     "output_type": "stream",
     "text": [
      "\n",
      "Просмотр всех записей таблицы taxes\n",
      "(1, 'Иванов H.P.', 'Сентябрь', 3)\n",
      "(2, 'Антонов И.В.', 'Февраль', 7)\n",
      "(3, 'Петров О.Д.', 'Август', 5)\n",
      "(4, 'Денисов И.А.', 'Июль', 5)\n",
      "(5, 'Иванов М.А.', 'Декабрь', 5)\n"
     ]
    }
   ],
   "source": [
    "crs=db.cursor()\n",
    "print('\\nПросмотр всех записей таблицы taxes')\n",
    "for r in crs.execute('SELECT * FROM taxes ORDER BY id'):\n",
    "  print(r)"
   ]
  },
  {
   "cell_type": "code",
   "execution_count": 56,
   "metadata": {},
   "outputs": [
    {
     "name": "stdout",
     "output_type": "stream",
     "text": [
      "\n",
      "Просмотр всех записей таблицы auto\n",
      "(1, 'BMW', 'X809АВ', 'Иванов H.P.', 2010, 1400)\n",
      "(2, 'Audi', 'М432АР', 'Антонов И.В.', 2005, 2100)\n",
      "(3, 'Ford', 'Т889НН', 'Петров О.Д.', 2000, 1750)\n",
      "(4, 'Honda', 'В139ОВ', 'Денисов И.А.', 2004, 1600)\n",
      "(5, 'KIA', 'Е961ЕО', 'Иванов М.А.', 2015, 1520)\n"
     ]
    }
   ],
   "source": [
    "print('\\nПросмотр всех записей таблицы auto')\n",
    "for r in crs.execute('SELECT * FROM auto ORDER BY id'):\n",
    "  print(r)"
   ]
  },
  {
   "cell_type": "code",
   "execution_count": 75,
   "metadata": {},
   "outputs": [
    {
     "name": "stdout",
     "output_type": "stream",
     "text": [
      "('Иванов H.P.', 1400, 36)\n",
      "('Антонов И.В.', 2100, 84)\n",
      "('Петров О.Д.', 1750, 60)\n",
      "('Денисов И.А.', 1600, 60)\n",
      "('Иванов М.А.', 1520, 60)\n"
     ]
    }
   ],
   "source": [
    "crs=db.cursor()\n",
    "for r in crs.execute(\"\"\"SELECT \n",
    "                            fio,\n",
    "                            capacity,\n",
    "                         CASE\n",
    "                             WHEN \n",
    "                                 capacity <= 1500 THEN 3 * 12\n",
    "                             WHEN \n",
    "                                 capacity > 1500 and capacity < 1900 THEN 5 * 12\n",
    "                             ELSE 7 * 12\n",
    "                          END\n",
    "                        FROM auto \n",
    "                        ORDER BY id\"\"\"):\n",
    "  print(r)\n",
    "crs.close()"
   ]
  }
 ],
 "metadata": {
  "colab": {
   "provenance": []
  },
  "kernelspec": {
   "display_name": "Python 3 (ipykernel)",
   "language": "python",
   "name": "python3"
  },
  "language_info": {
   "codemirror_mode": {
    "name": "ipython",
    "version": 3
   },
   "file_extension": ".py",
   "mimetype": "text/x-python",
   "name": "python",
   "nbconvert_exporter": "python",
   "pygments_lexer": "ipython3",
   "version": "3.11.3"
  }
 },
 "nbformat": 4,
 "nbformat_minor": 1
}
