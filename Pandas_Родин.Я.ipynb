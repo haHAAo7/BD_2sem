{
 "cells": [
  {
   "cell_type": "code",
   "execution_count": 11,
   "id": "bdcb2edd",
   "metadata": {},
   "outputs": [],
   "source": [
    "import sqlite3 as sl\n",
    "import pandas as pd\n",
    "db=sl.connect('GAI.db')"
   ]
  },
  {
   "cell_type": "code",
   "execution_count": 17,
   "id": "84f8cae1",
   "metadata": {},
   "outputs": [],
   "source": [
    "df_auto = pd.read_sql(\"\"\"SELECT * FROM auto\"\"\", db)\n",
    "df_taxes = pd.read_sql(\"\"\"SELECT * FROM taxes\"\"\", db)"
   ]
  },
  {
   "cell_type": "code",
   "execution_count": 19,
   "id": "1ce59010",
   "metadata": {},
   "outputs": [
    {
     "name": "stdout",
     "output_type": "stream",
     "text": [
      "   id   mark   plate           fio  year_of_issue  capacity\n",
      "0   1    BMW  X809АВ   Иванов H.P.           2010      1400\n",
      "1   2   Audi  М432АР  Антонов И.В.           2005      2100\n",
      "2   3   Ford  Т889НН   Петров О.Д.           2000      1750\n",
      "3   4  Honda  В139ОВ  Денисов И.А.           2004      1600\n",
      "4   5    KIA  Е961ЕО   Иванов М.А.           2015      1520\n"
     ]
    }
   ],
   "source": [
    "print(df_auto)"
   ]
  },
  {
   "cell_type": "code",
   "execution_count": 40,
   "id": "44a1fc59",
   "metadata": {},
   "outputs": [
    {
     "data": {
      "text/html": [
       "<div>\n",
       "<style scoped>\n",
       "    .dataframe tbody tr th:only-of-type {\n",
       "        vertical-align: middle;\n",
       "    }\n",
       "\n",
       "    .dataframe tbody tr th {\n",
       "        vertical-align: top;\n",
       "    }\n",
       "\n",
       "    .dataframe thead th {\n",
       "        text-align: right;\n",
       "    }\n",
       "</style>\n",
       "<table border=\"1\" class=\"dataframe\">\n",
       "  <thead>\n",
       "    <tr style=\"text-align: right;\">\n",
       "      <th></th>\n",
       "      <th>fio</th>\n",
       "      <th>capacity</th>\n",
       "      <th>tax</th>\n",
       "    </tr>\n",
       "  </thead>\n",
       "  <tbody>\n",
       "    <tr>\n",
       "      <th>0</th>\n",
       "      <td>Иванов H.P.</td>\n",
       "      <td>1400</td>\n",
       "      <td>36</td>\n",
       "    </tr>\n",
       "    <tr>\n",
       "      <th>1</th>\n",
       "      <td>Антонов И.В.</td>\n",
       "      <td>2100</td>\n",
       "      <td>84</td>\n",
       "    </tr>\n",
       "    <tr>\n",
       "      <th>2</th>\n",
       "      <td>Петров О.Д.</td>\n",
       "      <td>1750</td>\n",
       "      <td>60</td>\n",
       "    </tr>\n",
       "    <tr>\n",
       "      <th>3</th>\n",
       "      <td>Денисов И.А.</td>\n",
       "      <td>1600</td>\n",
       "      <td>60</td>\n",
       "    </tr>\n",
       "    <tr>\n",
       "      <th>4</th>\n",
       "      <td>Иванов М.А.</td>\n",
       "      <td>1520</td>\n",
       "      <td>60</td>\n",
       "    </tr>\n",
       "  </tbody>\n",
       "</table>\n",
       "</div>"
      ],
      "text/plain": [
       "            fio  capacity  tax\n",
       "0   Иванов H.P.      1400   36\n",
       "1  Антонов И.В.      2100   84\n",
       "2   Петров О.Д.      1750   60\n",
       "3  Денисов И.А.      1600   60\n",
       "4   Иванов М.А.      1520   60"
      ]
     },
     "execution_count": 40,
     "metadata": {},
     "output_type": "execute_result"
    }
   ],
   "source": [
    "# df_auto[df_auto.capacity <= 1500].capacity \n",
    "df_auto['tax'] = df_auto['capacity'].apply(lambda x: 3 * 12 if x <=1500 else 5 * 12 if x < 1900 else 7 * 12)\n",
    "df_auto[['fio', 'capacity', 'tax']] "
   ]
  }
 ],
 "metadata": {
  "kernelspec": {
   "display_name": "Python 3 (ipykernel)",
   "language": "python",
   "name": "python3"
  },
  "language_info": {
   "codemirror_mode": {
    "name": "ipython",
    "version": 3
   },
   "file_extension": ".py",
   "mimetype": "text/x-python",
   "name": "python",
   "nbconvert_exporter": "python",
   "pygments_lexer": "ipython3",
   "version": "3.11.3"
  }
 },
 "nbformat": 4,
 "nbformat_minor": 5
}
