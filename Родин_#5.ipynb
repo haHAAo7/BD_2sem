{
 "cells": [
  {
   "cell_type": "code",
   "execution_count": 1,
   "id": "a244bd04",
   "metadata": {},
   "outputs": [],
   "source": [
    "from peewee import *\n",
    "db = SqliteDatabase('data.db')"
   ]
  },
  {
   "cell_type": "code",
   "execution_count": 2,
   "id": "cd50e4da",
   "metadata": {},
   "outputs": [],
   "source": [
    "class BaseModel(Model):\n",
    "    class Meta:\n",
    "        database = db\n",
    "        \n",
    "class R(BaseModel):\n",
    "    r_id = PrimaryKeyField(column_name='R_id',null=False)\n",
    "    r1 = FloatField(column_name='r1', null=False)\n",
    "    r2 = FloatField(column_name='r2', null=False)\n",
    "    r3 = FloatField(column_name='r3', null=False)\n",
    "    r4 = FloatField(column_name='r4', null=False)\n",
    "    r5 = FloatField(column_name='r5', null=False)\n",
    "    r6 = FloatField(column_name='r6', null=False)\n",
    "    r7 = FloatField(column_name='r7', null=False)\n",
    "    r8 = FloatField(column_name='r8', null=False)\n",
    "    r9 = FloatField(column_name='r9', null=False)\n",
    "\n",
    "    class Meta:\n",
    "        table_name = 'R'\n",
    "        order_by = ('R_id')"
   ]
  },
  {
   "cell_type": "code",
   "execution_count": 3,
   "id": "d9377d1d",
   "metadata": {},
   "outputs": [],
   "source": [
    "class U(BaseModel):\n",
    "    u_id = PrimaryKeyField(column_name='U_id',null=False)\n",
    "    r_entry = ForeignKeyField(R, related_name='r_entry', to_field='r_id', on_delete='cascade', on_update='cascade')\n",
    "    e1 = FloatField(column_name='e1', null=False)\n",
    "    e2 = FloatField(column_name='e2', null=False)\n",
    "    e3 = FloatField(column_name='e3', null=False)\n",
    "    e4 = FloatField(column_name='e4', null=False)\n",
    "    e5 = FloatField(column_name='e5', null=False)\n",
    "    e6 = FloatField(column_name='e6', null=False)\n",
    "    e7 = FloatField(column_name='e7', null=False)\n",
    "\n",
    "    class Meta:\n",
    "        table_name = 'U'\n",
    "        order_by = ('U_id')"
   ]
  },
  {
   "cell_type": "code",
   "execution_count": 4,
   "id": "993049bf",
   "metadata": {},
   "outputs": [],
   "source": [
    "try:\n",
    "    db.connect()\n",
    "    R.create_table()\n",
    "except peewee.InternalError as px:\n",
    "    print(str(px))\n",
    "try:\n",
    "    U.create_table()\n",
    "except peewee.InternalError as px:\n",
    "    print(str(px))"
   ]
  },
  {
   "cell_type": "code",
   "execution_count": 8,
   "id": "144ad6db",
   "metadata": {},
   "outputs": [],
   "source": [
    "def add_R(r_id, r1, r2, r3, r4, r5, r6, r7, r8, r9):\n",
    "    r = R(\n",
    "        r_id=r_id,\n",
    "        r1=r1,\n",
    "        r2=r2,\n",
    "        r3=r3,\n",
    "        r4=r4,\n",
    "        r5=r5,\n",
    "        r6=r6,\n",
    "        r7=r7,\n",
    "        r8=r8,\n",
    "        r9=r9\n",
    "    )\n",
    "    r.save(force_insert=True)"
   ]
  },
  {
   "cell_type": "code",
   "execution_count": 13,
   "id": "52d3f753",
   "metadata": {},
   "outputs": [],
   "source": [
    "def add_U(u_id, r_entry, e1, e2, e3, e4, e5, e6, e7):\n",
    "    u = U(\n",
    "        u_id=u_id,\n",
    "        r_entry=r_entry,\n",
    "        e1=e1,\n",
    "        e2=e2,\n",
    "        e3=e3,\n",
    "        e4=e4,\n",
    "        e5=e5,\n",
    "        e6=e6,\n",
    "        e7=e7\n",
    "    )\n",
    "    u.save(force_insert=True)"
   ]
  },
  {
   "cell_type": "code",
   "execution_count": 14,
   "id": "014795ce",
   "metadata": {},
   "outputs": [],
   "source": [
    "def select_R():\n",
    "    return R.select()\n",
    "\n",
    "def select_U():\n",
    "    return U.select()\n",
    "\n",
    "def select_Rid(r_id):\n",
    "    return R.get(R.r_id == r_id)\n",
    "\n",
    "def select_Uid(r_id):\n",
    "    return U.get(U.r_entry == r_id)"
   ]
  },
  {
   "cell_type": "code",
   "execution_count": 9,
   "id": "ff10ec41",
   "metadata": {},
   "outputs": [],
   "source": [
    "add_R(1, 0.5, 0.75, 0.75, 0.5, 0.5, 0.5, 0.1, 0.2, 0.5)"
   ]
  },
  {
   "cell_type": "code",
   "execution_count": 15,
   "id": "546f63e5",
   "metadata": {},
   "outputs": [],
   "source": [
    "add_U(1, 1, 0.5, 0.6, 0.9, 0.5, 0.3, 0.2, 0.8)"
   ]
  },
  {
   "cell_type": "code",
   "execution_count": null,
   "id": "ecbad1c7",
   "metadata": {},
   "outputs": [],
   "source": [
    "Rs = select_R()\n",
    "r_data = []\n",
    "for entry in Rs:\n",
    "    r_data.append({\n",
    "        'ID':entry.r_id,\n",
    "        'r1': entry.r1,\n",
    "        'r2': entry.r2,\n",
    "        'r3': entry.r3,\n",
    "        'r4': entry.r4,\n",
    "        'r5': entry.r5,\n",
    "        'r6': entry.r6,\n",
    "        'r7': entry.r7,\n",
    "        'r8': entry.r8,\n",
    "        'r9': entry.r9,\n",
    "    })\n",
    "print('\\nВсе Записи: ') \n",
    "for i in r_data:\n",
    "  print(i)"
   ]
  },
  {
   "cell_type": "code",
   "execution_count": 17,
   "id": "6151de56",
   "metadata": {},
   "outputs": [],
   "source": [
    "def compute_c(c1, c2):\n",
    "    if c1*c2 >= 0:\n",
    "        return c1+c2 - c1*c2\n",
    "    return (c1 + c2)/(1 - min(c1, c2))"
   ]
  },
  {
   "cell_type": "code",
   "execution_count": 18,
   "id": "49c73795",
   "metadata": {},
   "outputs": [],
   "source": [
    "def get_c1(e1, e2, r4):\n",
    "    return max(e1, e2)*r4\n",
    "\n",
    "\n",
    "def get_c3(e3, e4, r6):\n",
    "    return min(e3, e4)*r6\n",
    "\n",
    "def get_c4(e5, e6, e7, r7, r8, r9):\n",
    "    res = compute_c(-e5*r7, -e6*r8)\n",
    "    res = compute_c(res, e7*r9)\n",
    "    return res\n",
    "\n",
    "def get_c2(c4, r5):\n",
    "    return c4*r5"
   ]
  },
  {
   "cell_type": "code",
   "execution_count": 24,
   "id": "21baaa1b",
   "metadata": {},
   "outputs": [],
   "source": [
    "def compute(r_id):\n",
    "    r = select_Rid(r_id)\n",
    "    u = select_Uid(r_id)\n",
    "    \n",
    "    c1 = get_c1(u.e1, u.e2, r.r4)\n",
    "    c3 = get_c3(u.e3, u.e4, r.r6)\n",
    "    c4 = get_c4(u.e5, u.e6, u.e7, r.r7, r.r8, r.r9)\n",
    "    \n",
    "    c2 = get_c2(c4, r.r5)\n",
    "    \n",
    "    res = compute_c(c1*r.r1, c2*r.r2)\n",
    "    res = compute_c(res, c3*r.r3)\n",
    "    return res"
   ]
  },
  {
   "cell_type": "code",
   "execution_count": 27,
   "id": "5b265145",
   "metadata": {},
   "outputs": [],
   "source": [
    "n = 1"
   ]
  },
  {
   "cell_type": "code",
   "execution_count": 28,
   "id": "b3a8fc4e",
   "metadata": {
    "scrolled": true
   },
   "outputs": [
    {
     "name": "stdout",
     "output_type": "stream",
     "text": [
      "Рассчитанное значение: 0.38886908373786405\n"
     ]
    }
   ],
   "source": [
    "print(f'Рассчитанное значение: {compute(n)}')"
   ]
  }
 ],
 "metadata": {
  "kernelspec": {
   "display_name": "Python 3 (ipykernel)",
   "language": "python",
   "name": "python3"
  },
  "language_info": {
   "codemirror_mode": {
    "name": "ipython",
    "version": 3
   },
   "file_extension": ".py",
   "mimetype": "text/x-python",
   "name": "python",
   "nbconvert_exporter": "python",
   "pygments_lexer": "ipython3",
   "version": "3.11.3"
  }
 },
 "nbformat": 4,
 "nbformat_minor": 5
}
