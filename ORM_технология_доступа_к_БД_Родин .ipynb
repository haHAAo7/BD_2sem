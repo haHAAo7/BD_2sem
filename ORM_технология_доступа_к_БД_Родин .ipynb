{
 "cells": [
  {
   "cell_type": "code",
   "execution_count": 22,
   "metadata": {
    "colab": {
     "base_uri": "https://localhost:8080/"
    },
    "id": "ImnJf82k1G4z",
    "outputId": "25f02477-f97f-4001-df0c-7df2a9d0bd3e"
   },
   "outputs": [],
   "source": [
    "from IPython.core.interactiveshell import oinspect\n",
    "from peewee import *\n",
    "\n",
    "db = SqliteDatabase('Lab3_gai.db')\n",
    "\n",
    "# Определяем базовую модель, которая определяет нашу БД\n",
    "class BaseModel(Model):\n",
    "    class Meta:\n",
    "        database = db\n",
    "\n",
    "# Определяем модель авто\n",
    "class Auto(BaseModel):\n",
    "    auto_id = PrimaryKeyField(column_name='AutoId',null=False)\n",
    "    mark = TextField(column_name='Mark', null=False)\n",
    "    plate = TextField(column_name='Plate', null=False)\n",
    "    fio = TextField(column_name='Fio', null=False)\n",
    "    year = IntegerField(column_name='YearOfIssue', null=False)\n",
    "    capacity = IntegerField(column_name='Capacity', null=False)\n",
    "\n",
    "    class Meta:\n",
    "        table_name = 'Auto'\n",
    "        order_by = ('Auto_id',) \n",
    "\n",
    "#определяем таблицу Ведомость\n",
    "class Taxes(BaseModel):\n",
    "  tax_id = PrimaryKeyField(column_name='TaxId',null=False)\n",
    "  tax_fio = ForeignKeyField(Auto, related_name='tax_fio', to_field='fio', on_delete='cascade', on_update='cascade')\n",
    "  month = TextField(column_name='Month', null=False)\n",
    "  amount = IntegerField(column_name='Amount', null=False)\n",
    "    \n",
    "  class Meta:\n",
    "        table_name = 'Taxes'\n",
    "        order_by = ('Tax_id',)\n",
    "\n",
    "if __name__ == '__main__':\n",
    "    try:\n",
    "        db.connect()\n",
    "        Auto.create_table()\n",
    "    except peewee.InternalError as px:\n",
    "        print(str(px))\n",
    "    try:\n",
    "        Taxes.create_table()\n",
    "    except peewee.InternalError as px:\n",
    "        print(str(px))"
   ]
  },
  {
   "cell_type": "code",
   "execution_count": 23,
   "metadata": {},
   "outputs": [],
   "source": [
    "def add_auto(mark, plate, fio, year, capacity):\n",
    "    auto = Auto(\n",
    "        mark=mark,\n",
    "        plate=plate,\n",
    "        fio=fio,\n",
    "        year=year,\n",
    "        capacity=capacity\n",
    "    )\n",
    "    auto.save()"
   ]
  },
  {
   "cell_type": "code",
   "execution_count": 24,
   "metadata": {},
   "outputs": [],
   "source": [
    "def add_tax(tax_fio, month, amount):\n",
    "    fio_exist = True\n",
    "    try:\n",
    "        id = Auto.select().where(Auto.fio == tax_fio).get()\n",
    "    except DoesNotExist as de:\n",
    "        fio_exist = False\n",
    " \n",
    "    if fio_exist:\n",
    "        tax = Taxes(\n",
    "            tax_fio=tax_fio,\n",
    "            month=month,\n",
    "            amount=amount,\n",
    "        )\n",
    "        tax.save()"
   ]
  },
  {
   "cell_type": "code",
   "execution_count": 25,
   "metadata": {},
   "outputs": [],
   "source": [
    "def update_owner(id, new_fio):\n",
    "    new_owner = Auto.get(Auto.auto_id == id)\n",
    "    new_owner.fio = new_fio\n",
    "    new_owner.save()"
   ]
  },
  {
   "cell_type": "code",
   "execution_count": 26,
   "metadata": {},
   "outputs": [],
   "source": [
    "def select_owner(fio):\n",
    "    return Auto.get(Auto.fio == fio)"
   ]
  },
  {
   "cell_type": "code",
   "execution_count": 27,
   "metadata": {},
   "outputs": [],
   "source": [
    "def delete_auto(fio):\n",
    "    auto = Auto.get(Auto.fio == fio)\n",
    "    auto.delete_instance()"
   ]
  },
  {
   "cell_type": "code",
   "execution_count": 28,
   "metadata": {},
   "outputs": [],
   "source": [
    "add_auto('BMW', 'X809АВ', 'Иванов H.P.', 2010, 1400)\n",
    "add_auto('Audi', 'М432АР', 'Антонов И.В.', 2005, 2100)\n",
    "add_auto('Ford', 'Т889НН', 'Петров О.Д.', 2000, 1750)\n",
    "add_auto('Honda', 'В139ОВ', 'Денисов И.А.',2004, 1600)\n",
    "add_auto('KIA', 'Е961ЕО', 'Иванов М.А.',2015, 1520)"
   ]
  },
  {
   "cell_type": "code",
   "execution_count": 29,
   "metadata": {},
   "outputs": [],
   "source": [
    "add_tax('Иванов H.P.', 'Сентябрь', 30000)\n",
    "add_tax('Антонов И.В.', 'Февраль', 70000)\n",
    "add_tax('Петров О.Д.', 'Август', 50000)\n",
    "add_tax('Денисов И.А.','Июль', 45000)\n",
    "add_tax('Иванов М.А.','Декабрь', 32000)"
   ]
  },
  {
   "cell_type": "code",
   "execution_count": 30,
   "metadata": {},
   "outputs": [],
   "source": [
    "update_owner(2, 'Давыдов А.И')"
   ]
  },
  {
   "cell_type": "code",
   "execution_count": 31,
   "metadata": {},
   "outputs": [
    {
     "name": "stdout",
     "output_type": "stream",
     "text": [
      "\n",
      "Автомобиль человека с ФИО Петров О.Д.: Ford - Т889НН\n"
     ]
    }
   ],
   "source": [
    "owner = select_owner('Петров О.Д.')\n",
    "print(f\"\\nАвтомобиль человека с ФИО {owner.fio}: {owner.mark} - {owner.plate}\")"
   ]
  },
  {
   "cell_type": "code",
   "execution_count": 32,
   "metadata": {},
   "outputs": [],
   "source": [
    "delete_auto('Иванов М.А.')"
   ]
  },
  {
   "cell_type": "code",
   "execution_count": 33,
   "metadata": {},
   "outputs": [],
   "source": [
    "def select_all_autos():\n",
    "  return Auto.select()\n",
    "\n",
    "def select_all_taxes():\n",
    "    return Taxes.select\n",
    "\n",
    "def auto_join(amount):\n",
    "  return  Auto.select().join(Taxes,on=(Auto.fio==Taxes.tax_fio)).where(Taxes.amount<amount)"
   ]
  },
  {
   "cell_type": "code",
   "execution_count": 34,
   "metadata": {},
   "outputs": [
    {
     "name": "stdout",
     "output_type": "stream",
     "text": [
      "\n",
      "Все Записи: \n",
      "{'ID': 1, 'Mark': 'BMW', 'plate': 'X809АВ', 'FIO': 'Иванов H.P.', 'Year': 2010, 'capacity': 1400}\n",
      "{'ID': 2, 'Mark': 'Audi', 'plate': 'М432АР', 'FIO': 'Давыдов А.И', 'Year': 2005, 'capacity': 2100}\n",
      "{'ID': 3, 'Mark': 'Ford', 'plate': 'Т889НН', 'FIO': 'Петров О.Д.', 'Year': 2000, 'capacity': 1750}\n",
      "{'ID': 4, 'Mark': 'Honda', 'plate': 'В139ОВ', 'FIO': 'Денисов И.А.', 'Year': 2004, 'capacity': 1600}\n"
     ]
    }
   ],
   "source": [
    "autos = select_all_autos()\n",
    "auto_data = []\n",
    "for entry in autos:\n",
    "    auto_data.append({\n",
    "        'ID':entry.auto_id,\n",
    "        'Mark': entry.mark,\n",
    "        'plate': entry.plate,\n",
    "        'FIO': entry.fio,\n",
    "        'Year': entry.year,\n",
    "        'capacity': entry.capacity\n",
    "    })\n",
    "print('\\nВсе Записи: ') \n",
    "for data in auto_data:\n",
    "  print(data)"
   ]
  },
  {
   "cell_type": "code",
   "execution_count": 35,
   "metadata": {},
   "outputs": [
    {
     "name": "stdout",
     "output_type": "stream",
     "text": [
      "Иванов H.P. - X809АВ\n",
      "Петров О.Д. - Т889НН\n",
      "Денисов И.А. - В139ОВ\n"
     ]
    }
   ],
   "source": [
    "auto_entry=auto_join(100000)\n",
    "for entry in auto_entry:\n",
    "    print(f\"{entry.fio} - {entry.plate}\")"
   ]
  },
  {
   "cell_type": "code",
   "execution_count": 36,
   "metadata": {},
   "outputs": [
    {
     "name": "stdout",
     "output_type": "stream",
     "text": [
      "Налог для Иванов H.P. - X809АВ равен - 36\n",
      "Налог для Давыдов А.И - М432АР равен - 84\n",
      "Налог для Петров О.Д. - Т889НН равен - 60\n",
      "Налог для Денисов И.А. - В139ОВ равен - 60\n"
     ]
    }
   ],
   "source": [
    "autos = select_all_autos()\n",
    "for entry in autos:\n",
    "    if entry.capacity < 1500:\n",
    "        print(f\"Налог для {entry.fio} - {entry.plate} равен - {3*12}\" )\n",
    "    elif entry.capacity > 1900:\n",
    "        print(f\"Налог для {entry.fio} - {entry.plate} равен - {7*12}\" )\n",
    "    else:\n",
    "        print(f\"Налог для {entry.fio} - {entry.plate} равен - {5*12}\" )"
   ]
  }
 ],
 "metadata": {
  "colab": {
   "provenance": []
  },
  "kernelspec": {
   "display_name": "Python 3 (ipykernel)",
   "language": "python",
   "name": "python3"
  },
  "language_info": {
   "codemirror_mode": {
    "name": "ipython",
    "version": 3
   },
   "file_extension": ".py",
   "mimetype": "text/x-python",
   "name": "python",
   "nbconvert_exporter": "python",
   "pygments_lexer": "ipython3",
   "version": "3.11.3"
  }
 },
 "nbformat": 4,
 "nbformat_minor": 1
}
